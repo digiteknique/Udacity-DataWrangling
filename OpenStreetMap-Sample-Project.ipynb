{
 "cells": [
  {
   "cell_type": "markdown",
   "metadata": {},
   "source": [
    "# OpenStreetMap Data Case Study\n",
    "\n",
    "\n",
    "## Map area\n",
    "Norman, OK, United States\n",
    "* Data Source: https://overpass-api.de/api/map?bbox=-97.7303,34.8358,-96.9942,35.6562\n",
    "* Map: https://www.openstreetmap.org/relation/185049\n",
    "\n",
    "I chose this area because it is my hometown. I am interested to see what facts I can pull from this data and I would like to contribute to the area's improvement on OpenStreetMap.org. Norman is also home to the University of Oklahoma, which I think may create some interesting details in the map data. The data file is 57.2 MB uncompressed."
   ]
  },
  {
   "cell_type": "markdown",
   "metadata": {},
   "source": [
    "# Problems Encountered in the Map"
   ]
  },
  {
   "cell_type": "markdown",
   "metadata": {},
   "source": [
    "After running my initial audit scripts (audit_streetnames.py and audit_postcodes.py) I noticed three main problems with the data. \n",
    "* Inconsistently abbreviated street names (\"SW 24th St.\", \"Southwest 24th Street\")\n",
    "* Incorrect zip code (\"c\")\n",
    "* Missing street name information (\"Maple\" instead of \"Maple Avenue\")"
   ]
  },
  {
   "cell_type": "code",
   "execution_count": null,
   "metadata": {},
   "outputs": [],
   "source": [
    "### Over abbreviated street names\n"
   ]
  }
 ],
 "metadata": {
  "kernelspec": {
   "display_name": "Python 3",
   "language": "python",
   "name": "python3"
  },
  "language_info": {
   "codemirror_mode": {
    "name": "ipython",
    "version": 3
   },
   "file_extension": ".py",
   "mimetype": "text/x-python",
   "name": "python",
   "nbconvert_exporter": "python",
   "pygments_lexer": "ipython3",
   "version": "3.6.5"
  }
 },
 "nbformat": 4,
 "nbformat_minor": 2
}
