{
 "cells": [
  {
   "cell_type": "markdown",
   "metadata": {},
   "source": [
    "# OpenStreetMap Data Case Study\n",
    "\n",
    "\n",
    "## Map area\n",
    "Norman, OK, United States\n",
    "* Data Source: https://overpass-api.de/api/map?bbox=-97.7303,34.8358,-96.9942,35.6562\n",
    "* Map: https://www.openstreetmap.org/relation/185049\n",
    "\n",
    "I chose this area because it is my hometown. I am interested to see what facts I can pull from this data and I would like to contribute to the area's improvement on OpenStreetMap.org. Norman is also home to the University of Oklahoma, which I think may create some interesting details in the map data. The data file is 57.2 MB uncompressed."
   ]
  },
  {
   "cell_type": "markdown",
   "metadata": {},
   "source": [
    "# Problems Encountered in the Map"
   ]
  },
  {
   "cell_type": "markdown",
   "metadata": {},
   "source": [
    "After running my initial audit scripts (audit_streetnames.py and audit_postcodes.py) I noticed three main problems with the data. \n",
    "* Inconsistently abbreviated street names (\"SW 24th St.\", \"Southwest 24th Street\")\n",
    "* Incorrect zip codes (\"c\")\n",
    "* Missing street name information (\"Maple\" instead of \"Maple Avenue\")"
   ]
  },
  {
   "cell_type": "markdown",
   "metadata": {},
   "source": [
    "### Inconsistenly abbreviated street names\n",
    "During the audit of the data, I noticed that there were some inconsistencies with how street names were abbreviated. Sometimes it would be St, sometimes St., event Steet a few times for Street. There were also differences in how directional information was stored. For example, N vs North. To fix these inconsistencies, I wrote code that split the street name into individual words and checked each one against my mapping to replace when needed. I used the following code, with mapping omitted: \n",
    "\n",
    "```python\n",
    "def rename_street_name(name):\n",
    "    words = name.split()\n",
    "    for w in range(len(words)):\n",
    "        if(words[w] in mapping):\n",
    "            if(words[w - 1].lower() not in ['suite', 'ste.', 'ste']):\n",
    "                words[w] = mapping[words[w]]\n",
    "    name = ' '.join(words)\n",
    "    # special case for street name of just \"Maple\". I looked up the address\n",
    "    if name.lower() == 'maple':\n",
    "        name = 'Maple Avenue'\n",
    "    # special case for street name of just \"73069\". I looked up the address\n",
    "    if name == '73069':\n",
    "        name = 'West Robinson Avenue'\n",
    "    return name \n",
    "```\n"
   ]
  },
  {
   "cell_type": "markdown",
   "metadata": {},
   "source": [
    "### Appendix A - Output from data cleanup\n",
    "```\n",
    "Fixed Street: SW 25th Street => Southwest 25th Street\n",
    "Fixed Street: South Interstate Drive  => South Interstate Drive\n",
    "Fixed Street: Riverwalk DR => Riverwalk Drive\n",
    "Fixed Street: 12th Avenue SE => 12th Avenue Southeast\n",
    "Fixed Street: S Broadway St => South Broadway Street\n",
    "Fixed Street: SW 24th St. => Southwest 24th Street\n",
    "Fixed Street: Maple => Maple Avenue\n",
    "Fixed Street: Maple => Maple Avenue\n",
    "Fixed Street: Maple => Maple Avenue\n",
    "Fixed Street: Maple => Maple Avenue\n",
    "Fixed Street: Maple => Maple Avenue\n",
    "Fixed Street: Maple => Maple Avenue\n",
    "Fixed Street: Maple => Maple Avenue\n",
    "Fixed Street: Maple => Maple Avenue\n",
    "Fixed Street: Maple => Maple Avenue\n",
    "Fixed Street: Maple => Maple Avenue\n",
    "Fixed Street: David L Boren Blvd => David L Boren Boulevard\n",
    "Fixed Street: 24th Avenue SW => 24th Avenue Southwest\n",
    "Fixed Street: 108th Avenue NE => 108th Avenue Northeast\n",
    "Fixed Street: West Main Steet => West Main Street\n",
    "Fixed Street: E. Robinson St. => East Robinson Street\n",
    "Fixed Street: 12th Avenue NE => 12th Avenue Northeast\n",
    "Fixed Street: Classen Blvd. => Classen Boulevard\n",
    "Fixed Street: 12th Avenue NE => 12th Avenue Northeast\n",
    "Fixed Street: 73069 => West Robinson Avenue\n",
    "Fixed Street: East Hayes Steet => East Hayes Street\n",
    "Fixed Street: 12th Avenue NE => 12th Avenue Northeast\n",
    "Fixed Street: 12th Avenue SE => 12th Avenue Southeast\n",
    "Fixed Street: Maple => Maple Avenue\n",
    "Fixed Street: Maple => Maple Avenue\n",
    "Fixed Street: Maple => Maple Avenue\n",
    "Fixed Street: Maple => Maple Avenue\n",
    "Fixed Street: Maple => Maple Avenue\n",
    "Fixed Street: Maple => Maple Avenue\n",
    "Fixed Street: Maple => Maple Avenue\n",
    "Fixed Street: Maple => Maple Avenue\n",
    "Fixed Street: Maple => Maple Avenue\n",
    "Fixed Street: Maple => Maple Avenue\n",
    "Fixed Street: 24th Avenue SE => 24th Avenue Southeast\n",
    "Fixed Zipcode: c => 73069\n",
    "Fixed Street: 108th Avenue NE => 108th Avenue Northeast\n",
    "Fixed Street: SW 19th St => Southwest 19th Street\n",
    "```"
   ]
  },
  {
   "cell_type": "code",
   "execution_count": null,
   "metadata": {},
   "outputs": [],
   "source": []
  }
 ],
 "metadata": {
  "kernelspec": {
   "display_name": "Python 3",
   "language": "python",
   "name": "python3"
  },
  "language_info": {
   "codemirror_mode": {
    "name": "ipython",
    "version": 3
   },
   "file_extension": ".py",
   "mimetype": "text/x-python",
   "name": "python",
   "nbconvert_exporter": "python",
   "pygments_lexer": "ipython3",
   "version": "3.6.5"
  }
 },
 "nbformat": 4,
 "nbformat_minor": 2
}
